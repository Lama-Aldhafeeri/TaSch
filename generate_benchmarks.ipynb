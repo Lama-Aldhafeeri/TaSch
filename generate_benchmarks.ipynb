{
  "nbformat": 4,
  "nbformat_minor": 0,
  "metadata": {
    "colab": {
      "provenance": []
    },
    "kernelspec": {
      "name": "python3",
      "display_name": "Python 3"
    },
    "language_info": {
      "name": "python"
    }
  },
  "cells": [
    {
      "cell_type": "code",
      "source": [
        "import shutil\n",
        "import os\n",
        "import zipfile\n",
        "import random\n",
        "\n",
        "# Define the output directory\n",
        "output_dir = \"output_files\"\n",
        "\n",
        "# Clear the directory if it exists\n",
        "if os.path.exists(output_dir):\n",
        "    shutil.rmtree(output_dir)\n",
        "os.makedirs(output_dir, exist_ok=True)\n",
        "\n",
        "# Fixed machine size\n",
        "machine_size = 10  # mv is always 10\n",
        "\n",
        "# Function to generate dataset files\n",
        "def generate_data_corrected(filename, n_tasks, n_machines):\n",
        "    with open(filename, 'w') as file:\n",
        "        # Write tasks\n",
        "        file.write(' '.join(map(str, range(1, n_tasks + 1))) + '\\n')\n",
        "        # Write machines\n",
        "        file.write(' '.join(map(str, range(1, n_machines + 1))) + '\\n')\n",
        "        # Write task times within the range 5-10\n",
        "        for task in range(1, n_tasks + 1):\n",
        "            for machine in range(1, n_machines + 1):\n",
        "                time = random.randint(5, 10)  # Ensure time is between 5 and 10\n",
        "                file.write(f\"{task},{machine},{time}\\n\")\n",
        "\n",
        "# Generate 20 instances per task size from 10 to 100\n",
        "file_count = 0\n",
        "mv = 10  # Fixed value for mv\n",
        "\n",
        "for n_tasks in range(10, 101, 10):  # Tasks from 10 to 100 (10, 20, ..., 100)\n",
        "    for instance in range(1, 21):  # 20 instances per (mv, n_tasks) pair\n",
        "        filename = os.path.join(output_dir, f\"instance_{mv}_{n_tasks}_{instance}.txt\")\n",
        "        generate_data_corrected(filename, n_tasks, machine_size)\n",
        "        file_count += 1\n",
        "\n",
        "# Verify the correct number of files\n",
        "num_files_corrected_final = sum(len(files) for _, _, files in os.walk(output_dir))\n",
        "\n",
        "# Zip the generated files\n",
        "zip_filename_corrected_final = \"task_machine_datasets_200_files.zip\"\n",
        "\n",
        "with zipfile.ZipFile(zip_filename_corrected_final, 'w', zipfile.ZIP_DEFLATED) as zipf:\n",
        "    for root, _, files in os.walk(output_dir):\n",
        "        for file in files:\n",
        "            zipf.write(os.path.join(root, file), file)\n",
        "\n",
        "# Output the number of files and ZIP filename\n",
        "num_files_corrected_final, zip_filename_corrected_final"
      ],
      "metadata": {
        "colab": {
          "base_uri": "https://localhost:8080/"
        },
        "id": "NowXetmHmzUa",
        "outputId": "9691fc3b-311e-4547-f752-86880c381204"
      },
      "execution_count": null,
      "outputs": [
        {
          "output_type": "execute_result",
          "data": {
            "text/plain": [
              "(200, 'task_machine_datasets_200_files.zip')"
            ]
          },
          "metadata": {},
          "execution_count": 6
        }
      ]
    },
    {
      "cell_type": "code",
      "source": [],
      "metadata": {
        "id": "KfvcRNu_nBdm"
      },
      "execution_count": null,
      "outputs": []
    }
  ]
}